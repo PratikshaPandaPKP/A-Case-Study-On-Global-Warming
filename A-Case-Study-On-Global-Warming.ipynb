{
 "cells": [
  {
   "cell_type": "markdown",
   "id": "3852c4d9",
   "metadata": {
    "papermill": {
     "duration": 0.014176,
     "end_time": "2022-10-17T08:47:25.505981",
     "exception": false,
     "start_time": "2022-10-17T08:47:25.491805",
     "status": "completed"
    },
    "tags": []
   },
   "source": [
    "# Introduction\n",
    "\n",
    "The aim of this case study is to analyse the co2 emissions in all the countries in the world from 1750 to 2022."
   ]
  },
  {
   "cell_type": "code",
   "execution_count": 1,
   "id": "1bef2858",
   "metadata": {
    "_cell_guid": "b1076dfc-b9ad-4769-8c92-a6c4dae69d19",
    "_uuid": "8f2839f25d086af736a60e9eeb907d3b93b6e0e5",
    "execution": {
     "iopub.execute_input": "2022-10-17T08:47:40.299957Z",
     "iopub.status.busy": "2022-10-17T08:47:40.299495Z",
     "iopub.status.idle": "2022-10-17T08:47:41.707770Z",
     "shell.execute_reply": "2022-10-17T08:47:41.706471Z"
    },
    "papermill": {
     "duration": 1.426235,
     "end_time": "2022-10-17T08:47:41.710586",
     "exception": false,
     "start_time": "2022-10-17T08:47:40.284351",
     "status": "completed"
    },
    "tags": []
   },
   "outputs": [],
   "source": [
    "import pandas as pd # data processing\n",
    "import numpy as np # statistics\n",
    "from skimpy import clean_columns # clean column names\n",
    "\n",
    "%matplotlib inline\n",
    "import matplotlib.pyplot as plt # visualization\n",
    "import seaborn as sns # visualization\n",
    "\n",
    "df = pd.read_csv(\"F:\\CO2 emission by countries.csv\\CO2 emission by countries.csv\", encoding = \"ISO-8859-1\")\n",
    "\n"
   ]
  },
  {
   "cell_type": "markdown",
   "id": "9bc85c22",
   "metadata": {
    "papermill": {
     "duration": 0.012137,
     "end_time": "2022-10-17T08:47:25.556151",
     "exception": false,
     "start_time": "2022-10-17T08:47:25.544014",
     "status": "completed"
    },
    "tags": []
   },
   "source": [
    "# Importing and data processing"
   ]
  },
  {
   "cell_type": "markdown",
   "id": "8bbf0d11",
   "metadata": {
    "papermill": {
     "duration": 0.013013,
     "end_time": "2022-10-17T08:47:41.736896",
     "exception": false,
     "start_time": "2022-10-17T08:47:41.723883",
     "status": "completed"
    },
    "tags": []
   },
   "source": [
    "**preview data**"
   ]
  },
  {
   "cell_type": "code",
   "execution_count": 2,
   "id": "51110851",
   "metadata": {
    "execution": {
     "iopub.execute_input": "2022-10-17T08:47:41.765408Z",
     "iopub.status.busy": "2022-10-17T08:47:41.764618Z",
     "iopub.status.idle": "2022-10-17T08:47:41.810619Z",
     "shell.execute_reply": "2022-10-17T08:47:41.809192Z"
    },
    "papermill": {
     "duration": 0.063195,
     "end_time": "2022-10-17T08:47:41.813284",
     "exception": false,
     "start_time": "2022-10-17T08:47:41.750089",
     "status": "completed"
    },
    "tags": []
   },
   "outputs": [
    {
     "name": "stdout",
     "output_type": "stream",
     "text": [
      "<class 'pandas.core.frame.DataFrame'>\n",
      "RangeIndex: 59620 entries, 0 to 59619\n",
      "Data columns (total 9 columns):\n",
      " #   Column               Non-Null Count  Dtype  \n",
      "---  ------               --------------  -----  \n",
      " 0   Country              59620 non-null  object \n",
      " 1   Code                 57452 non-null  object \n",
      " 2   Calling Code         56097 non-null  object \n",
      " 3   Year                 59620 non-null  int64  \n",
      " 4   CO2 emission (Tons)  59620 non-null  float64\n",
      " 5   Population(2022)     53116 non-null  float64\n",
      " 6   Area                 55284 non-null  float64\n",
      " 7   % of World           55284 non-null  object \n",
      " 8   Density(km2)         53116 non-null  object \n",
      "dtypes: float64(3), int64(1), object(5)\n",
      "memory usage: 4.1+ MB\n"
     ]
    }
   ],
   "source": [
    "df.info();"
   ]
  },
  {
   "cell_type": "code",
   "execution_count": 3,
   "id": "3923850a",
   "metadata": {
    "execution": {
     "iopub.execute_input": "2022-10-17T08:47:41.842442Z",
     "iopub.status.busy": "2022-10-17T08:47:41.841637Z",
     "iopub.status.idle": "2022-10-17T08:47:41.864502Z",
     "shell.execute_reply": "2022-10-17T08:47:41.863600Z"
    },
    "papermill": {
     "duration": 0.040016,
     "end_time": "2022-10-17T08:47:41.866788",
     "exception": false,
     "start_time": "2022-10-17T08:47:41.826772",
     "status": "completed"
    },
    "tags": []
   },
   "outputs": [
    {
     "data": {
      "text/html": [
       "<div>\n",
       "<style scoped>\n",
       "    .dataframe tbody tr th:only-of-type {\n",
       "        vertical-align: middle;\n",
       "    }\n",
       "\n",
       "    .dataframe tbody tr th {\n",
       "        vertical-align: top;\n",
       "    }\n",
       "\n",
       "    .dataframe thead th {\n",
       "        text-align: right;\n",
       "    }\n",
       "</style>\n",
       "<table border=\"1\" class=\"dataframe\">\n",
       "  <thead>\n",
       "    <tr style=\"text-align: right;\">\n",
       "      <th></th>\n",
       "      <th>Country</th>\n",
       "      <th>Code</th>\n",
       "      <th>Calling Code</th>\n",
       "      <th>Year</th>\n",
       "      <th>CO2 emission (Tons)</th>\n",
       "      <th>Population(2022)</th>\n",
       "      <th>Area</th>\n",
       "      <th>% of World</th>\n",
       "      <th>Density(km2)</th>\n",
       "    </tr>\n",
       "  </thead>\n",
       "  <tbody>\n",
       "    <tr>\n",
       "      <th>0</th>\n",
       "      <td>Afghanistan</td>\n",
       "      <td>AF</td>\n",
       "      <td>93</td>\n",
       "      <td>1750</td>\n",
       "      <td>0.0</td>\n",
       "      <td>41128771.0</td>\n",
       "      <td>652230.0</td>\n",
       "      <td>0.40%</td>\n",
       "      <td>63/km²</td>\n",
       "    </tr>\n",
       "    <tr>\n",
       "      <th>1</th>\n",
       "      <td>Afghanistan</td>\n",
       "      <td>AF</td>\n",
       "      <td>93</td>\n",
       "      <td>1751</td>\n",
       "      <td>0.0</td>\n",
       "      <td>41128771.0</td>\n",
       "      <td>652230.0</td>\n",
       "      <td>0.40%</td>\n",
       "      <td>63/km²</td>\n",
       "    </tr>\n",
       "    <tr>\n",
       "      <th>2</th>\n",
       "      <td>Afghanistan</td>\n",
       "      <td>AF</td>\n",
       "      <td>93</td>\n",
       "      <td>1752</td>\n",
       "      <td>0.0</td>\n",
       "      <td>41128771.0</td>\n",
       "      <td>652230.0</td>\n",
       "      <td>0.40%</td>\n",
       "      <td>63/km²</td>\n",
       "    </tr>\n",
       "    <tr>\n",
       "      <th>3</th>\n",
       "      <td>Afghanistan</td>\n",
       "      <td>AF</td>\n",
       "      <td>93</td>\n",
       "      <td>1753</td>\n",
       "      <td>0.0</td>\n",
       "      <td>41128771.0</td>\n",
       "      <td>652230.0</td>\n",
       "      <td>0.40%</td>\n",
       "      <td>63/km²</td>\n",
       "    </tr>\n",
       "    <tr>\n",
       "      <th>4</th>\n",
       "      <td>Afghanistan</td>\n",
       "      <td>AF</td>\n",
       "      <td>93</td>\n",
       "      <td>1754</td>\n",
       "      <td>0.0</td>\n",
       "      <td>41128771.0</td>\n",
       "      <td>652230.0</td>\n",
       "      <td>0.40%</td>\n",
       "      <td>63/km²</td>\n",
       "    </tr>\n",
       "  </tbody>\n",
       "</table>\n",
       "</div>"
      ],
      "text/plain": [
       "       Country Code Calling Code  Year  CO2 emission (Tons)  Population(2022)  \\\n",
       "0  Afghanistan   AF           93  1750                  0.0        41128771.0   \n",
       "1  Afghanistan   AF           93  1751                  0.0        41128771.0   \n",
       "2  Afghanistan   AF           93  1752                  0.0        41128771.0   \n",
       "3  Afghanistan   AF           93  1753                  0.0        41128771.0   \n",
       "4  Afghanistan   AF           93  1754                  0.0        41128771.0   \n",
       "\n",
       "       Area % of World Density(km2)  \n",
       "0  652230.0      0.40%       63/km²  \n",
       "1  652230.0      0.40%       63/km²  \n",
       "2  652230.0      0.40%       63/km²  \n",
       "3  652230.0      0.40%       63/km²  \n",
       "4  652230.0      0.40%       63/km²  "
      ]
     },
     "execution_count": 3,
     "metadata": {},
     "output_type": "execute_result"
    }
   ],
   "source": [
    "df.head()"
   ]
  },
  {
   "cell_type": "markdown",
   "id": "572ea9ca",
   "metadata": {
    "papermill": {
     "duration": 0.013324,
     "end_time": "2022-10-17T08:47:41.894029",
     "exception": false,
     "start_time": "2022-10-17T08:47:41.880705",
     "status": "completed"
    },
    "tags": []
   },
   "source": [
    "**change column names to snake case and rename**"
   ]
  },
  {
   "cell_type": "code",
   "execution_count": 4,
   "id": "bb99e5b6",
   "metadata": {
    "execution": {
     "iopub.execute_input": "2022-10-17T08:47:41.923636Z",
     "iopub.status.busy": "2022-10-17T08:47:41.922649Z",
     "iopub.status.idle": "2022-10-17T08:47:41.945342Z",
     "shell.execute_reply": "2022-10-17T08:47:41.944058Z"
    },
    "papermill": {
     "duration": 0.040716,
     "end_time": "2022-10-17T08:47:41.948233",
     "exception": false,
     "start_time": "2022-10-17T08:47:41.907517",
     "status": "completed"
    },
    "tags": []
   },
   "outputs": [
    {
     "data": {
      "text/html": [
       "<pre style=\"white-space:pre;overflow-x:auto;line-height:normal;font-family:Menlo,'DejaVu Sans Mono',consolas,'Courier New',monospace\"><span style=\"color: #008080; text-decoration-color: #008080; font-weight: bold\">9</span> column names have been cleaned\n",
       "</pre>\n"
      ],
      "text/plain": [
       "\u001b[1;36m9\u001b[0m column names have been cleaned\n"
      ]
     },
     "metadata": {},
     "output_type": "display_data"
    }
   ],
   "source": [
    "df = clean_columns(df)\n",
    "df.columns.tolist()\n",
    "df.rename(columns = {\"co_2_emission_tons\":\"co2_emission_tons\", \"density_km_2\":\"density(km2)\", \"%_of_world\":\"percentage_of_world\"}, inplace = True)"
   ]
  },
  {
   "cell_type": "markdown",
   "id": "79e8a426",
   "metadata": {
    "papermill": {
     "duration": 0.013395,
     "end_time": "2022-10-17T08:47:41.975368",
     "exception": false,
     "start_time": "2022-10-17T08:47:41.961973",
     "status": "completed"
    },
    "tags": []
   },
   "source": [
    "**change string to float**"
   ]
  },
  {
   "cell_type": "code",
   "execution_count": 5,
   "id": "f77808ae",
   "metadata": {
    "execution": {
     "iopub.execute_input": "2022-10-17T08:47:42.004481Z",
     "iopub.status.busy": "2022-10-17T08:47:42.004018Z",
     "iopub.status.idle": "2022-10-17T08:47:42.123548Z",
     "shell.execute_reply": "2022-10-17T08:47:42.122375Z"
    },
    "papermill": {
     "duration": 0.137193,
     "end_time": "2022-10-17T08:47:42.126234",
     "exception": false,
     "start_time": "2022-10-17T08:47:41.989041",
     "status": "completed"
    },
    "tags": []
   },
   "outputs": [],
   "source": [
    "df[\"percentage_of_world\"] = df[\"percentage_of_world\"].str.replace(\"%\", \"\", regex=True)\n",
    "df[\"percentage_of_world\"] = df[\"percentage_of_world\"].astype(float)\n",
    "\n",
    "df[\"density(km2)\"] = df[\"density(km2)\"].str.replace(\"/km²\", \"\", regex=True)\n",
    "df[\"density(km2)\"] = df[\"density(km2)\"].str.replace(',','.', regex=True)\n",
    "df[\"density(km2)\"] = df[\"density(km2)\"].astype(float)"
   ]
  },
  {
   "cell_type": "markdown",
   "id": "d1cc1fe5",
   "metadata": {
    "papermill": {
     "duration": 0.013393,
     "end_time": "2022-10-17T08:47:42.153858",
     "exception": false,
     "start_time": "2022-10-17T08:47:42.140465",
     "status": "completed"
    },
    "tags": []
   },
   "source": [
    "**Check updated data**"
   ]
  },
  {
   "cell_type": "code",
   "execution_count": 6,
   "id": "1aa7f3d2",
   "metadata": {
    "execution": {
     "iopub.execute_input": "2022-10-17T08:47:42.183487Z",
     "iopub.status.busy": "2022-10-17T08:47:42.182968Z",
     "iopub.status.idle": "2022-10-17T08:47:42.201885Z",
     "shell.execute_reply": "2022-10-17T08:47:42.200684Z"
    },
    "papermill": {
     "duration": 0.036412,
     "end_time": "2022-10-17T08:47:42.204214",
     "exception": false,
     "start_time": "2022-10-17T08:47:42.167802",
     "status": "completed"
    },
    "tags": []
   },
   "outputs": [
    {
     "data": {
      "text/html": [
       "<div>\n",
       "<style scoped>\n",
       "    .dataframe tbody tr th:only-of-type {\n",
       "        vertical-align: middle;\n",
       "    }\n",
       "\n",
       "    .dataframe tbody tr th {\n",
       "        vertical-align: top;\n",
       "    }\n",
       "\n",
       "    .dataframe thead th {\n",
       "        text-align: right;\n",
       "    }\n",
       "</style>\n",
       "<table border=\"1\" class=\"dataframe\">\n",
       "  <thead>\n",
       "    <tr style=\"text-align: right;\">\n",
       "      <th></th>\n",
       "      <th>country</th>\n",
       "      <th>code</th>\n",
       "      <th>calling_code</th>\n",
       "      <th>year</th>\n",
       "      <th>co2_emission_tons</th>\n",
       "      <th>population_2022</th>\n",
       "      <th>area</th>\n",
       "      <th>percentage_of_world</th>\n",
       "      <th>density(km2)</th>\n",
       "    </tr>\n",
       "  </thead>\n",
       "  <tbody>\n",
       "    <tr>\n",
       "      <th>0</th>\n",
       "      <td>Afghanistan</td>\n",
       "      <td>AF</td>\n",
       "      <td>93</td>\n",
       "      <td>1750</td>\n",
       "      <td>0.0</td>\n",
       "      <td>41128771.0</td>\n",
       "      <td>652230.0</td>\n",
       "      <td>0.4</td>\n",
       "      <td>63.0</td>\n",
       "    </tr>\n",
       "    <tr>\n",
       "      <th>1</th>\n",
       "      <td>Afghanistan</td>\n",
       "      <td>AF</td>\n",
       "      <td>93</td>\n",
       "      <td>1751</td>\n",
       "      <td>0.0</td>\n",
       "      <td>41128771.0</td>\n",
       "      <td>652230.0</td>\n",
       "      <td>0.4</td>\n",
       "      <td>63.0</td>\n",
       "    </tr>\n",
       "    <tr>\n",
       "      <th>2</th>\n",
       "      <td>Afghanistan</td>\n",
       "      <td>AF</td>\n",
       "      <td>93</td>\n",
       "      <td>1752</td>\n",
       "      <td>0.0</td>\n",
       "      <td>41128771.0</td>\n",
       "      <td>652230.0</td>\n",
       "      <td>0.4</td>\n",
       "      <td>63.0</td>\n",
       "    </tr>\n",
       "    <tr>\n",
       "      <th>3</th>\n",
       "      <td>Afghanistan</td>\n",
       "      <td>AF</td>\n",
       "      <td>93</td>\n",
       "      <td>1753</td>\n",
       "      <td>0.0</td>\n",
       "      <td>41128771.0</td>\n",
       "      <td>652230.0</td>\n",
       "      <td>0.4</td>\n",
       "      <td>63.0</td>\n",
       "    </tr>\n",
       "    <tr>\n",
       "      <th>4</th>\n",
       "      <td>Afghanistan</td>\n",
       "      <td>AF</td>\n",
       "      <td>93</td>\n",
       "      <td>1754</td>\n",
       "      <td>0.0</td>\n",
       "      <td>41128771.0</td>\n",
       "      <td>652230.0</td>\n",
       "      <td>0.4</td>\n",
       "      <td>63.0</td>\n",
       "    </tr>\n",
       "  </tbody>\n",
       "</table>\n",
       "</div>"
      ],
      "text/plain": [
       "       country code calling_code  year  co2_emission_tons  population_2022  \\\n",
       "0  Afghanistan   AF           93  1750                0.0       41128771.0   \n",
       "1  Afghanistan   AF           93  1751                0.0       41128771.0   \n",
       "2  Afghanistan   AF           93  1752                0.0       41128771.0   \n",
       "3  Afghanistan   AF           93  1753                0.0       41128771.0   \n",
       "4  Afghanistan   AF           93  1754                0.0       41128771.0   \n",
       "\n",
       "       area  percentage_of_world  density(km2)  \n",
       "0  652230.0                  0.4          63.0  \n",
       "1  652230.0                  0.4          63.0  \n",
       "2  652230.0                  0.4          63.0  \n",
       "3  652230.0                  0.4          63.0  \n",
       "4  652230.0                  0.4          63.0  "
      ]
     },
     "execution_count": 6,
     "metadata": {},
     "output_type": "execute_result"
    }
   ],
   "source": [
    "df.head()"
   ]
  },
  {
   "cell_type": "code",
   "execution_count": 7,
   "id": "b99d3e99",
   "metadata": {
    "execution": {
     "iopub.execute_input": "2022-10-17T08:47:42.234427Z",
     "iopub.status.busy": "2022-10-17T08:47:42.233577Z",
     "iopub.status.idle": "2022-10-17T08:47:42.258058Z",
     "shell.execute_reply": "2022-10-17T08:47:42.256628Z"
    },
    "papermill": {
     "duration": 0.042813,
     "end_time": "2022-10-17T08:47:42.260955",
     "exception": false,
     "start_time": "2022-10-17T08:47:42.218142",
     "status": "completed"
    },
    "tags": []
   },
   "outputs": [
    {
     "name": "stdout",
     "output_type": "stream",
     "text": [
      "<class 'pandas.core.frame.DataFrame'>\n",
      "RangeIndex: 59620 entries, 0 to 59619\n",
      "Data columns (total 9 columns):\n",
      " #   Column               Non-Null Count  Dtype  \n",
      "---  ------               --------------  -----  \n",
      " 0   country              59620 non-null  object \n",
      " 1   code                 57452 non-null  object \n",
      " 2   calling_code         56097 non-null  object \n",
      " 3   year                 59620 non-null  int64  \n",
      " 4   co2_emission_tons    59620 non-null  float64\n",
      " 5   population_2022      53116 non-null  float64\n",
      " 6   area                 55284 non-null  float64\n",
      " 7   percentage_of_world  55284 non-null  float64\n",
      " 8   density(km2)         53116 non-null  float64\n",
      "dtypes: float64(5), int64(1), object(3)\n",
      "memory usage: 4.1+ MB\n"
     ]
    }
   ],
   "source": [
    "df.info()"
   ]
  },
  {
   "cell_type": "markdown",
   "id": "0cb6ce9d",
   "metadata": {
    "papermill": {
     "duration": 0.013771,
     "end_time": "2022-10-17T08:47:42.288970",
     "exception": false,
     "start_time": "2022-10-17T08:47:42.275199",
     "status": "completed"
    },
    "tags": []
   },
   "source": [
    "# Data analysis and visualization"
   ]
  },
  {
   "cell_type": "markdown",
   "id": "4b2ab88b",
   "metadata": {
    "papermill": {
     "duration": 0.013545,
     "end_time": "2022-10-17T08:47:42.316584",
     "exception": false,
     "start_time": "2022-10-17T08:47:42.303039",
     "status": "completed"
    },
    "tags": []
   },
   "source": [
    "**Global co2 emission since 1750**"
   ]
  },
  {
   "cell_type": "code",
   "execution_count": 8,
   "id": "f21ba5c1",
   "metadata": {
    "execution": {
     "iopub.execute_input": "2022-10-17T08:47:42.345294Z",
     "iopub.status.busy": "2022-10-17T08:47:42.344892Z",
     "iopub.status.idle": "2022-10-17T08:47:42.688011Z",
     "shell.execute_reply": "2022-10-17T08:47:42.686621Z"
    },
    "papermill": {
     "duration": 0.360793,
     "end_time": "2022-10-17T08:47:42.690827",
     "exception": false,
     "start_time": "2022-10-17T08:47:42.330034",
     "status": "completed"
    },
    "tags": []
   },
   "outputs": [
    {
     "data": {
      "image/png": "[encoded data removed]",
      "text/plain": [
       "<Figure size 720x432 with 1 Axes>"
      ]
     },
     "metadata": {
      "needs_background": "light"
     },
     "output_type": "display_data"
    }
   ],
   "source": [
    "yearly_world_emission_df = df.groupby(\"year\").sum()\n",
    "plt.figure(figsize=(10, 6))\n",
    "sns.set_style(\"whitegrid\")\n",
    "plt.plot(yearly_world_emission_df.index, yearly_world_emission_df[\"co2_emission_tons\"])\n",
    "plt.title(\"World yearly CO2 emission\");\n"
   ]
  },
  {
   "cell_type": "markdown",
   "id": "e2692c25",
   "metadata": {
    "papermill": {
     "duration": 0.013806,
     "end_time": "2022-10-17T08:47:42.719327",
     "exception": false,
     "start_time": "2022-10-17T08:47:42.705521",
     "status": "completed"
    },
    "tags": []
   },
   "source": [
    "We can see from the graph that world co2 emission has been increasing rapidly over the years."
   ]
  },
  {
   "cell_type": "markdown",
   "id": "e1dbb183",
   "metadata": {
    "papermill": {
     "duration": 0.013845,
     "end_time": "2022-10-17T08:47:42.747282",
     "exception": false,
     "start_time": "2022-10-17T08:47:42.733437",
     "status": "completed"
    },
    "tags": []
   },
   "source": [
    "**Now, we will find the top 20 countries in the world with the highest co2 emission for the last 5 years**"
   ]
  },
  {
   "cell_type": "code",
   "execution_count": 9,
   "id": "05f1a275",
   "metadata": {
    "execution": {
     "iopub.execute_input": "2022-10-17T08:47:42.777250Z",
     "iopub.status.busy": "2022-10-17T08:47:42.776845Z",
     "iopub.status.idle": "2022-10-17T08:47:42.794247Z",
     "shell.execute_reply": "2022-10-17T08:47:42.793022Z"
    },
    "papermill": {
     "duration": 0.035899,
     "end_time": "2022-10-17T08:47:42.797349",
     "exception": false,
     "start_time": "2022-10-17T08:47:42.761450",
     "status": "completed"
    },
    "tags": []
   },
   "outputs": [],
   "source": [
    "top20_emission_df = df[(df.year > 2011) & (df[\"year\"] < 2023)].groupby(\"country\")[[\"co2_emission_tons\"]].sum().sort_values(by=[\"co2_emission_tons\"], ascending=False).head(20)"
   ]
  },
  {
   "cell_type": "code",
   "execution_count": 10,
   "id": "aae3f2a1",
   "metadata": {
    "execution": {
     "iopub.execute_input": "2022-10-17T08:47:42.828353Z",
     "iopub.status.busy": "2022-10-17T08:47:42.827896Z",
     "iopub.status.idle": "2022-10-17T08:47:43.283124Z",
     "shell.execute_reply": "2022-10-17T08:47:43.281744Z"
    },
    "papermill": {
     "duration": 0.473396,
     "end_time": "2022-10-17T08:47:43.285773",
     "exception": false,
     "start_time": "2022-10-17T08:47:42.812377",
     "status": "completed"
    },
    "tags": []
   },
   "outputs": [
    {
     "data": {
      "image/png": "[encoded data removed]",
      "text/plain": [
       "<Figure size 864x576 with 1 Axes>"
      ]
     },
     "metadata": {},
     "output_type": "display_data"
    }
   ],
   "source": [
    "plt.figure(figsize=(12, 8))\n",
    "sns.set_style(\"whitegrid\")\n",
    "sns.barplot(data=top20_emission_df, x=\"co2_emission_tons\", y=top20_emission_df.index, palette=\"bright\")\n",
    "plt.title(\"Top 20 CO2 emitting countries from 2012 - 2022\")\n",
    "plt.xlabel(\"CO2 emission in tons\")\n",
    "plt.ylabel(\"Countries\");\n"
   ]
  },
  {
   "cell_type": "markdown",
   "id": "4450196b",
   "metadata": {
    "papermill": {
     "duration": 0.014363,
     "end_time": "2022-10-17T08:47:43.315074",
     "exception": false,
     "start_time": "2022-10-17T08:47:43.300711",
     "status": "completed"
    },
    "tags": []
   },
   "source": [
    "These countries have emitted the highest amount of co2 in the last decade. United States is the largest emitter of co2 in the world for the last decade."
   ]
  },
  {
   "cell_type": "markdown",
   "id": "b87f0313",
   "metadata": {
    "papermill": {
     "duration": 0.014455,
     "end_time": "2022-10-17T08:47:43.344114",
     "exception": false,
     "start_time": "2022-10-17T08:47:43.329659",
     "status": "completed"
    },
    "tags": []
   },
   "source": [
    "**getting world emission for last 10 years and saving to a new dataframe**"
   ]
  },
  {
   "cell_type": "code",
   "execution_count": 11,
   "id": "eaeda51a",
   "metadata": {
    "execution": {
     "iopub.execute_input": "2022-10-17T08:47:43.375328Z",
     "iopub.status.busy": "2022-10-17T08:47:43.374916Z",
     "iopub.status.idle": "2022-10-17T08:47:43.388068Z",
     "shell.execute_reply": "2022-10-17T08:47:43.386810Z"
    },
    "papermill": {
     "duration": 0.031844,
     "end_time": "2022-10-17T08:47:43.390645",
     "exception": false,
     "start_time": "2022-10-17T08:47:43.358801",
     "status": "completed"
    },
    "tags": []
   },
   "outputs": [],
   "source": [
    "last_decade_emission_df = df[(df.year > 2011) & (df[\"year\"] < 2023)].groupby(\"country\")[[\"co2_emission_tons\"]].sum().sort_values(by=[\"co2_emission_tons\"])"
   ]
  },
  {
   "cell_type": "markdown",
   "id": "b2fa3f00",
   "metadata": {
    "papermill": {
     "duration": 0.014536,
     "end_time": "2022-10-17T08:47:43.420426",
     "exception": false,
     "start_time": "2022-10-17T08:47:43.405890",
     "status": "completed"
    },
    "tags": []
   },
   "source": [
    "**finding the top 20 countries with the least c02 emission from 2012-2022**"
   ]
  },
  {
   "cell_type": "code",
   "execution_count": 12,
   "id": "ecce39e5",
   "metadata": {
    "execution": {
     "iopub.execute_input": "2022-10-17T08:47:43.451783Z",
     "iopub.status.busy": "2022-10-17T08:47:43.451378Z",
     "iopub.status.idle": "2022-10-17T08:47:43.462528Z",
     "shell.execute_reply": "2022-10-17T08:47:43.461260Z"
    },
    "papermill": {
     "duration": 0.029974,
     "end_time": "2022-10-17T08:47:43.465267",
     "exception": false,
     "start_time": "2022-10-17T08:47:43.435293",
     "status": "completed"
    },
    "tags": []
   },
   "outputs": [],
   "source": [
    "bottom20_emission_df = df[(df.year > 2011) & (df[\"year\"] < 2023)].groupby(\"country\")[[\"co2_emission_tons\"]].sum().sort_values(by=[\"co2_emission_tons\"]).head(20)"
   ]
  },
  {
   "cell_type": "code",
   "execution_count": 13,
   "id": "8009f02a",
   "metadata": {
    "execution": {
     "iopub.execute_input": "2022-10-17T08:47:43.496968Z",
     "iopub.status.busy": "2022-10-17T08:47:43.496502Z",
     "iopub.status.idle": "2022-10-17T08:47:43.954701Z",
     "shell.execute_reply": "2022-10-17T08:47:43.953445Z"
    },
    "papermill": {
     "duration": 0.477126,
     "end_time": "2022-10-17T08:47:43.957539",
     "exception": false,
     "start_time": "2022-10-17T08:47:43.480413",
     "status": "completed"
    },
    "tags": []
   },
   "outputs": [
    {
     "data": {
      "image/png": "[encoded data removed]",
      "text/plain": [
       "<Figure size 864x576 with 1 Axes>"
      ]
     },
     "metadata": {},
     "output_type": "display_data"
    }
   ],
   "source": [
    "plt.figure(figsize=(12, 8))\n",
    "sns.set_style(\"whitegrid\")\n",
    "sns.barplot(data=top20_emission_df, x=\"co2_emission_tons\", y=bottom20_emission_df.index, palette=\"bright\")\n",
    "plt.title(\"Bottom 20 CO2 emitting countries from 2012 - 2022\")\n",
    "plt.xlabel(\"CO2 emission in tons\")\n",
    "plt.ylabel(\"Countries\");"
   ]
  },
  {
   "cell_type": "markdown",
   "id": "99963916",
   "metadata": {
    "papermill": {
     "duration": 0.016433,
     "end_time": "2022-10-17T08:47:43.991073",
     "exception": false,
     "start_time": "2022-10-17T08:47:43.974640",
     "status": "completed"
    },
    "tags": []
   },
   "source": [
    "The plot above shows the 20 countries in the world with the least co2 emission in the world. Comoros has the least c02 emission in the world for the last decade."
   ]
  },
  {
   "cell_type": "markdown",
   "id": "fda621e9",
   "metadata": {
    "papermill": {
     "duration": 0.015114,
     "end_time": "2022-10-17T08:47:44.021959",
     "exception": false,
     "start_time": "2022-10-17T08:47:44.006845",
     "status": "completed"
    },
    "tags": []
   },
   "source": [
    "**finding the year with the greatest co2 emission from 1750-2020**"
   ]
  },
  {
   "cell_type": "code",
   "execution_count": 14,
   "id": "df4bda6a",
   "metadata": {
    "execution": {
     "iopub.execute_input": "2022-10-17T08:47:44.056456Z",
     "iopub.status.busy": "2022-10-17T08:47:44.055382Z",
     "iopub.status.idle": "2022-10-17T08:47:44.069600Z",
     "shell.execute_reply": "2022-10-17T08:47:44.067834Z"
    },
    "papermill": {
     "duration": 0.034442,
     "end_time": "2022-10-17T08:47:44.072372",
     "exception": false,
     "start_time": "2022-10-17T08:47:44.037930",
     "status": "completed"
    },
    "tags": []
   },
   "outputs": [
    {
     "name": "stdout",
     "output_type": "stream",
     "text": [
      "      co2_emission_tons\n",
      "year                   \n",
      "2020       1.654088e+12\n"
     ]
    }
   ],
   "source": [
    "print(df.groupby(\"year\")[[\"co2_emission_tons\"]].sum().sort_values(by=\"co2_emission_tons\", ascending=False).head(1))"
   ]
  },
  {
   "cell_type": "markdown",
   "id": "b22ef243",
   "metadata": {
    "papermill": {
     "duration": 0.016028,
     "end_time": "2022-10-17T08:47:44.104124",
     "exception": false,
     "start_time": "2022-10-17T08:47:44.088096",
     "status": "completed"
    },
    "tags": []
   },
   "source": [
    "**Now let us take a closer look at co2 emission in Nigeria over the years**"
   ]
  },
  {
   "cell_type": "code",
   "execution_count": 15,
   "id": "91715dbb",
   "metadata": {
    "execution": {
     "iopub.execute_input": "2022-10-17T08:47:44.138738Z",
     "iopub.status.busy": "2022-10-17T08:47:44.137836Z",
     "iopub.status.idle": "2022-10-17T08:47:44.150059Z",
     "shell.execute_reply": "2022-10-17T08:47:44.148616Z"
    },
    "papermill": {
     "duration": 0.032338,
     "end_time": "2022-10-17T08:47:44.152968",
     "exception": false,
     "start_time": "2022-10-17T08:47:44.120630",
     "status": "completed"
    },
    "tags": []
   },
   "outputs": [],
   "source": [
    "c02_nigeria_df = df[df[\"country\"] == \"Nigeria\"]"
   ]
  },
  {
   "cell_type": "markdown",
   "id": "4fc8a93d",
   "metadata": {
    "papermill": {
     "duration": 0.016532,
     "end_time": "2022-10-17T08:47:44.186130",
     "exception": false,
     "start_time": "2022-10-17T08:47:44.169598",
     "status": "completed"
    },
    "tags": []
   },
   "source": [
    "view dataset"
   ]
  },
  {
   "cell_type": "code",
   "execution_count": 16,
   "id": "35e3507d",
   "metadata": {
    "execution": {
     "iopub.execute_input": "2022-10-17T08:47:44.220668Z",
     "iopub.status.busy": "2022-10-17T08:47:44.220166Z",
     "iopub.status.idle": "2022-10-17T08:47:44.239021Z",
     "shell.execute_reply": "2022-10-17T08:47:44.237456Z"
    },
    "papermill": {
     "duration": 0.039251,
     "end_time": "2022-10-17T08:47:44.241576",
     "exception": false,
     "start_time": "2022-10-17T08:47:44.202325",
     "status": "completed"
    },
    "tags": []
   },
   "outputs": [
    {
     "data": {
      "text/html": [
       "<div>\n",
       "<style scoped>\n",
       "    .dataframe tbody tr th:only-of-type {\n",
       "        vertical-align: middle;\n",
       "    }\n",
       "\n",
       "    .dataframe tbody tr th {\n",
       "        vertical-align: top;\n",
       "    }\n",
       "\n",
       "    .dataframe thead th {\n",
       "        text-align: right;\n",
       "    }\n",
       "</style>\n",
       "<table border=\"1\" class=\"dataframe\">\n",
       "  <thead>\n",
       "    <tr style=\"text-align: right;\">\n",
       "      <th></th>\n",
       "      <th>country</th>\n",
       "      <th>code</th>\n",
       "      <th>calling_code</th>\n",
       "      <th>year</th>\n",
       "      <th>co2_emission_tons</th>\n",
       "      <th>population_2022</th>\n",
       "      <th>area</th>\n",
       "      <th>percentage_of_world</th>\n",
       "      <th>density(km2)</th>\n",
       "    </tr>\n",
       "  </thead>\n",
       "  <tbody>\n",
       "    <tr>\n",
       "      <th>38753</th>\n",
       "      <td>Nigeria</td>\n",
       "      <td>NG</td>\n",
       "      <td>234</td>\n",
       "      <td>1750</td>\n",
       "      <td>0.0</td>\n",
       "      <td>218541212.0</td>\n",
       "      <td>923768.0</td>\n",
       "      <td>0.6</td>\n",
       "      <td>237.0</td>\n",
       "    </tr>\n",
       "    <tr>\n",
       "      <th>38754</th>\n",
       "      <td>Nigeria</td>\n",
       "      <td>NG</td>\n",
       "      <td>234</td>\n",
       "      <td>1751</td>\n",
       "      <td>0.0</td>\n",
       "      <td>218541212.0</td>\n",
       "      <td>923768.0</td>\n",
       "      <td>0.6</td>\n",
       "      <td>237.0</td>\n",
       "    </tr>\n",
       "    <tr>\n",
       "      <th>38755</th>\n",
       "      <td>Nigeria</td>\n",
       "      <td>NG</td>\n",
       "      <td>234</td>\n",
       "      <td>1752</td>\n",
       "      <td>0.0</td>\n",
       "      <td>218541212.0</td>\n",
       "      <td>923768.0</td>\n",
       "      <td>0.6</td>\n",
       "      <td>237.0</td>\n",
       "    </tr>\n",
       "    <tr>\n",
       "      <th>38756</th>\n",
       "      <td>Nigeria</td>\n",
       "      <td>NG</td>\n",
       "      <td>234</td>\n",
       "      <td>1753</td>\n",
       "      <td>0.0</td>\n",
       "      <td>218541212.0</td>\n",
       "      <td>923768.0</td>\n",
       "      <td>0.6</td>\n",
       "      <td>237.0</td>\n",
       "    </tr>\n",
       "    <tr>\n",
       "      <th>38757</th>\n",
       "      <td>Nigeria</td>\n",
       "      <td>NG</td>\n",
       "      <td>234</td>\n",
       "      <td>1754</td>\n",
       "      <td>0.0</td>\n",
       "      <td>218541212.0</td>\n",
       "      <td>923768.0</td>\n",
       "      <td>0.6</td>\n",
       "      <td>237.0</td>\n",
       "    </tr>\n",
       "  </tbody>\n",
       "</table>\n",
       "</div>"
      ],
      "text/plain": [
       "       country code calling_code  year  co2_emission_tons  population_2022  \\\n",
       "38753  Nigeria   NG          234  1750                0.0      218541212.0   \n",
       "38754  Nigeria   NG          234  1751                0.0      218541212.0   \n",
       "38755  Nigeria   NG          234  1752                0.0      218541212.0   \n",
       "38756  Nigeria   NG          234  1753                0.0      218541212.0   \n",
       "38757  Nigeria   NG          234  1754                0.0      218541212.0   \n",
       "\n",
       "           area  percentage_of_world  density(km2)  \n",
       "38753  923768.0                  0.6         237.0  \n",
       "38754  923768.0                  0.6         237.0  \n",
       "38755  923768.0                  0.6         237.0  \n",
       "38756  923768.0                  0.6         237.0  \n",
       "38757  923768.0                  0.6         237.0  "
      ]
     },
     "execution_count": 16,
     "metadata": {},
     "output_type": "execute_result"
    }
   ],
   "source": [
    "c02_nigeria_df.head()"
   ]
  },
  {
   "cell_type": "code",
   "execution_count": 17,
   "id": "14ddb33f",
   "metadata": {
    "execution": {
     "iopub.execute_input": "2022-10-17T08:47:44.275670Z",
     "iopub.status.busy": "2022-10-17T08:47:44.275249Z",
     "iopub.status.idle": "2022-10-17T08:47:44.584940Z",
     "shell.execute_reply": "2022-10-17T08:47:44.583910Z"
    },
    "papermill": {
     "duration": 0.330835,
     "end_time": "2022-10-17T08:47:44.588787",
     "exception": false,
     "start_time": "2022-10-17T08:47:44.257952",
     "status": "completed"
    },
    "tags": []
   },
   "outputs": [
    {
     "data": {
      "image/png": "[encoded data removed]",
      "text/plain": [
       "<Figure size 720x432 with 1 Axes>"
      ]
     },
     "metadata": {},
     "output_type": "display_data"
    }
   ],
   "source": [
    "plt.figure(figsize=(10, 6))\n",
    "sns.set_style(\"whitegrid\")\n",
    "plt.plot(c02_nigeria_df[\"year\"], c02_nigeria_df[\"co2_emission_tons\"])\n",
    "plt.title(\"Yearly CO2 emission in Nigeria\");"
   ]
  },
  {
   "cell_type": "markdown",
   "id": "f631e751",
   "metadata": {
    "papermill": {
     "duration": 0.015759,
     "end_time": "2022-10-17T08:47:44.622083",
     "exception": false,
     "start_time": "2022-10-17T08:47:44.606324",
     "status": "completed"
    },
    "tags": []
   },
   "source": [
    "We can see from the chart that c02 emission started to increase around 1960, which coincides with the time Nigeria started production of crudeoil.\n",
    "\n"
   ]
  },
  {
   "cell_type": "markdown",
   "id": "91bc1ac2",
   "metadata": {
    "papermill": {
     "duration": 0.015802,
     "end_time": "2022-10-17T08:47:44.653998",
     "exception": false,
     "start_time": "2022-10-17T08:47:44.638196",
     "status": "completed"
    },
    "tags": []
   },
   "source": [
    "From early 2000 till now, there has been an even more increase in co2 emission in Nigeria. This is due to the fact that Nigeria is the largest exporter of crude oil in Africa. Exportation of crude oil is the major source of revenue in the country"
   ]
  },
  {
   "cell_type": "markdown",
   "id": "bb50101c",
   "metadata": {
    "papermill": {
     "duration": 0.015778,
     "end_time": "2022-10-17T08:47:44.686099",
     "exception": false,
     "start_time": "2022-10-17T08:47:44.670321",
     "status": "completed"
    },
    "tags": []
   },
   "source": [
    "**How much percent of total world co2 do top 5 countries emit in 2020**"
   ]
  },
  {
   "cell_type": "code",
   "execution_count": 18,
   "id": "a09f3dec",
   "metadata": {
    "execution": {
     "iopub.execute_input": "2022-10-17T08:47:44.720752Z",
     "iopub.status.busy": "2022-10-17T08:47:44.720093Z",
     "iopub.status.idle": "2022-10-17T08:47:44.731463Z",
     "shell.execute_reply": "2022-10-17T08:47:44.730280Z"
    },
    "papermill": {
     "duration": 0.031681,
     "end_time": "2022-10-17T08:47:44.733872",
     "exception": false,
     "start_time": "2022-10-17T08:47:44.702191",
     "status": "completed"
    },
    "tags": []
   },
   "outputs": [
    {
     "data": {
      "text/plain": [
       "0.5675616513903374"
      ]
     },
     "execution_count": 18,
     "metadata": {},
     "output_type": "execute_result"
    }
   ],
   "source": [
    "df[df[\"year\"]==2020].sort_values(by=\"co2_emission_tons\", ascending=False).head(5)[\"co2_emission_tons\"].sum()/df[df[\"year\"]==2020][\"co2_emission_tons\"].sum()"
   ]
  },
  {
   "cell_type": "markdown",
   "id": "5fe399a6",
   "metadata": {
    "papermill": {
     "duration": 0.016039,
     "end_time": "2022-10-17T08:47:44.767207",
     "exception": false,
     "start_time": "2022-10-17T08:47:44.751168",
     "status": "completed"
    },
    "tags": []
   },
   "source": [
    "The top 5 countries with the highest co2 emission constituted 57% of the world co2 in 2020."
   ]
  },
  {
   "cell_type": "markdown",
   "id": "01c18e23",
   "metadata": {
    "papermill": {
     "duration": 0.018674,
     "end_time": "2022-10-17T08:47:44.802627",
     "exception": false,
     "start_time": "2022-10-17T08:47:44.783953",
     "status": "completed"
    },
    "tags": []
   },
   "source": [
    "**How much of the world population produced 57% of emission in 2020**"
   ]
  },
  {
   "cell_type": "code",
   "execution_count": 19,
   "id": "d51c6bc3",
   "metadata": {
    "execution": {
     "iopub.execute_input": "2022-10-17T08:47:44.837223Z",
     "iopub.status.busy": "2022-10-17T08:47:44.836846Z",
     "iopub.status.idle": "2022-10-17T08:47:44.847825Z",
     "shell.execute_reply": "2022-10-17T08:47:44.846964Z"
    },
    "papermill": {
     "duration": 0.031044,
     "end_time": "2022-10-17T08:47:44.850142",
     "exception": false,
     "start_time": "2022-10-17T08:47:44.819098",
     "status": "completed"
    },
    "tags": []
   },
   "outputs": [
    {
     "data": {
      "text/plain": [
       "0.26323504999824004"
      ]
     },
     "execution_count": 19,
     "metadata": {},
     "output_type": "execute_result"
    }
   ],
   "source": [
    "df[df[\"year\"]==2020].sort_values(by=\"co2_emission_tons\", ascending=False).head(5)[\"population_2022\"].sum()/df[df[\"year\"]==2020][\"population_2022\"].sum()"
   ]
  },
  {
   "cell_type": "markdown",
   "id": "73ce0254",
   "metadata": {
    "papermill": {
     "duration": 0.016435,
     "end_time": "2022-10-17T08:47:44.883178",
     "exception": false,
     "start_time": "2022-10-17T08:47:44.866743",
     "status": "completed"
    },
    "tags": []
   },
   "source": [
    "26 percent of the world population produced 57 percent of the world co2 in 2020."
   ]
  },
  {
   "cell_type": "markdown",
   "id": "42c53240",
   "metadata": {
    "papermill": {
     "duration": 0.016165,
     "end_time": "2022-10-17T08:47:44.915959",
     "exception": false,
     "start_time": "2022-10-17T08:47:44.899794",
     "status": "completed"
    },
    "tags": []
   },
   "source": [
    "**Since United States produced the highest amount of co2 in the world in 2020. How much co2 was produced per person in USA in 2020?**"
   ]
  },
  {
   "cell_type": "code",
   "execution_count": 20,
   "id": "0a6a3d95",
   "metadata": {
    "execution": {
     "iopub.execute_input": "2022-10-17T08:47:44.952830Z",
     "iopub.status.busy": "2022-10-17T08:47:44.952029Z",
     "iopub.status.idle": "2022-10-17T08:47:44.973714Z",
     "shell.execute_reply": "2022-10-17T08:47:44.972790Z"
    },
    "papermill": {
     "duration": 0.042994,
     "end_time": "2022-10-17T08:47:44.976078",
     "exception": false,
     "start_time": "2022-10-17T08:47:44.933084",
     "status": "completed"
    },
    "tags": []
   },
   "outputs": [
    {
     "data": {
      "text/html": [
       "<div>\n",
       "<style scoped>\n",
       "    .dataframe tbody tr th:only-of-type {\n",
       "        vertical-align: middle;\n",
       "    }\n",
       "\n",
       "    .dataframe tbody tr th {\n",
       "        vertical-align: top;\n",
       "    }\n",
       "\n",
       "    .dataframe thead th {\n",
       "        text-align: right;\n",
       "    }\n",
       "</style>\n",
       "<table border=\"1\" class=\"dataframe\">\n",
       "  <thead>\n",
       "    <tr style=\"text-align: right;\">\n",
       "      <th></th>\n",
       "      <th>country</th>\n",
       "      <th>code</th>\n",
       "      <th>calling_code</th>\n",
       "      <th>year</th>\n",
       "      <th>co2_emission_tons</th>\n",
       "      <th>population_2022</th>\n",
       "      <th>area</th>\n",
       "      <th>percentage_of_world</th>\n",
       "      <th>density(km2)</th>\n",
       "    </tr>\n",
       "  </thead>\n",
       "  <tbody>\n",
       "    <tr>\n",
       "      <th>57180</th>\n",
       "      <td>United States</td>\n",
       "      <td>US</td>\n",
       "      <td>1</td>\n",
       "      <td>2020</td>\n",
       "      <td>4.170000e+11</td>\n",
       "      <td>338289857.0</td>\n",
       "      <td>9372610.0</td>\n",
       "      <td>6.1</td>\n",
       "      <td>36.0</td>\n",
       "    </tr>\n",
       "  </tbody>\n",
       "</table>\n",
       "</div>"
      ],
      "text/plain": [
       "             country code calling_code  year  co2_emission_tons  \\\n",
       "57180  United States   US            1  2020       4.170000e+11   \n",
       "\n",
       "       population_2022       area  percentage_of_world  density(km2)  \n",
       "57180      338289857.0  9372610.0                  6.1          36.0  "
      ]
     },
     "execution_count": 20,
     "metadata": {},
     "output_type": "execute_result"
    }
   ],
   "source": [
    "usa_2020 = df[(df[\"year\"]==2020) & (df[\"country\"]==\"United States\")]\n",
    "usa_2020.head()"
   ]
  },
  {
   "cell_type": "code",
   "execution_count": 21,
   "id": "2b3838b2",
   "metadata": {
    "execution": {
     "iopub.execute_input": "2022-10-17T08:47:45.015047Z",
     "iopub.status.busy": "2022-10-17T08:47:45.013890Z",
     "iopub.status.idle": "2022-10-17T08:47:45.021986Z",
     "shell.execute_reply": "2022-10-17T08:47:45.021075Z"
    },
    "papermill": {
     "duration": 0.029777,
     "end_time": "2022-10-17T08:47:45.024249",
     "exception": false,
     "start_time": "2022-10-17T08:47:44.994472",
     "status": "completed"
    },
    "tags": []
   },
   "outputs": [
    {
     "data": {
      "text/plain": [
       "57180    1232.670715\n",
       "dtype: float64"
      ]
     },
     "execution_count": 21,
     "metadata": {},
     "output_type": "execute_result"
    }
   ],
   "source": [
    "usa_2020[\"co2_emission_tons\"]/usa_2020[\"population_2022\"]"
   ]
  },
  {
   "cell_type": "markdown",
   "id": "e5dc6a74",
   "metadata": {
    "papermill": {
     "duration": 0.017019,
     "end_time": "2022-10-17T08:47:45.058635",
     "exception": false,
     "start_time": "2022-10-17T08:47:45.041616",
     "status": "completed"
    },
    "tags": []
   },
   "source": [
    "The average person in United States emits about 1.2kg of c02 in the year 2020"
   ]
  },
  {
   "cell_type": "markdown",
   "id": "e4b70b9e",
   "metadata": {
    "papermill": {
     "duration": 0.016453,
     "end_time": "2022-10-17T08:47:45.091928",
     "exception": false,
     "start_time": "2022-10-17T08:47:45.075475",
     "status": "completed"
    },
    "tags": []
   },
   "source": [
    "**Time series of emission for top 5 countries**"
   ]
  },
  {
   "cell_type": "code",
   "execution_count": 22,
   "id": "733e0c30",
   "metadata": {
    "execution": {
     "iopub.execute_input": "2022-10-17T08:47:45.128090Z",
     "iopub.status.busy": "2022-10-17T08:47:45.127251Z",
     "iopub.status.idle": "2022-10-17T08:47:45.169477Z",
     "shell.execute_reply": "2022-10-17T08:47:45.168316Z"
    },
    "papermill": {
     "duration": 0.06307,
     "end_time": "2022-10-17T08:47:45.172021",
     "exception": false,
     "start_time": "2022-10-17T08:47:45.108951",
     "status": "completed"
    },
    "tags": []
   },
   "outputs": [
    {
     "data": {
      "text/html": [
       "<div>\n",
       "<style scoped>\n",
       "    .dataframe tbody tr th:only-of-type {\n",
       "        vertical-align: middle;\n",
       "    }\n",
       "\n",
       "    .dataframe tbody tr th {\n",
       "        vertical-align: top;\n",
       "    }\n",
       "\n",
       "    .dataframe thead th {\n",
       "        text-align: right;\n",
       "    }\n",
       "</style>\n",
       "<table border=\"1\" class=\"dataframe\">\n",
       "  <thead>\n",
       "    <tr style=\"text-align: right;\">\n",
       "      <th></th>\n",
       "      <th>country</th>\n",
       "      <th>code</th>\n",
       "      <th>calling_code</th>\n",
       "      <th>year</th>\n",
       "      <th>co2_emission_tons</th>\n",
       "      <th>population_2022</th>\n",
       "      <th>area</th>\n",
       "      <th>percentage_of_world</th>\n",
       "      <th>density(km2)</th>\n",
       "    </tr>\n",
       "  </thead>\n",
       "  <tbody>\n",
       "    <tr>\n",
       "      <th>10569</th>\n",
       "      <td>China</td>\n",
       "      <td>CN</td>\n",
       "      <td>86</td>\n",
       "      <td>1750</td>\n",
       "      <td>0.0</td>\n",
       "      <td>1.425887e+09</td>\n",
       "      <td>9706961.0</td>\n",
       "      <td>6.3</td>\n",
       "      <td>147.0</td>\n",
       "    </tr>\n",
       "    <tr>\n",
       "      <th>10570</th>\n",
       "      <td>China</td>\n",
       "      <td>CN</td>\n",
       "      <td>86</td>\n",
       "      <td>1751</td>\n",
       "      <td>0.0</td>\n",
       "      <td>1.425887e+09</td>\n",
       "      <td>9706961.0</td>\n",
       "      <td>6.3</td>\n",
       "      <td>147.0</td>\n",
       "    </tr>\n",
       "    <tr>\n",
       "      <th>10571</th>\n",
       "      <td>China</td>\n",
       "      <td>CN</td>\n",
       "      <td>86</td>\n",
       "      <td>1752</td>\n",
       "      <td>0.0</td>\n",
       "      <td>1.425887e+09</td>\n",
       "      <td>9706961.0</td>\n",
       "      <td>6.3</td>\n",
       "      <td>147.0</td>\n",
       "    </tr>\n",
       "    <tr>\n",
       "      <th>10572</th>\n",
       "      <td>China</td>\n",
       "      <td>CN</td>\n",
       "      <td>86</td>\n",
       "      <td>1753</td>\n",
       "      <td>0.0</td>\n",
       "      <td>1.425887e+09</td>\n",
       "      <td>9706961.0</td>\n",
       "      <td>6.3</td>\n",
       "      <td>147.0</td>\n",
       "    </tr>\n",
       "    <tr>\n",
       "      <th>10573</th>\n",
       "      <td>China</td>\n",
       "      <td>CN</td>\n",
       "      <td>86</td>\n",
       "      <td>1754</td>\n",
       "      <td>0.0</td>\n",
       "      <td>1.425887e+09</td>\n",
       "      <td>9706961.0</td>\n",
       "      <td>6.3</td>\n",
       "      <td>147.0</td>\n",
       "    </tr>\n",
       "  </tbody>\n",
       "</table>\n",
       "</div>"
      ],
      "text/plain": [
       "      country code calling_code  year  co2_emission_tons  population_2022  \\\n",
       "10569   China   CN           86  1750                0.0     1.425887e+09   \n",
       "10570   China   CN           86  1751                0.0     1.425887e+09   \n",
       "10571   China   CN           86  1752                0.0     1.425887e+09   \n",
       "10572   China   CN           86  1753                0.0     1.425887e+09   \n",
       "10573   China   CN           86  1754                0.0     1.425887e+09   \n",
       "\n",
       "            area  percentage_of_world  density(km2)  \n",
       "10569  9706961.0                  6.3         147.0  \n",
       "10570  9706961.0                  6.3         147.0  \n",
       "10571  9706961.0                  6.3         147.0  \n",
       "10572  9706961.0                  6.3         147.0  \n",
       "10573  9706961.0                  6.3         147.0  "
      ]
     },
     "execution_count": 22,
     "metadata": {},
     "output_type": "execute_result"
    }
   ],
   "source": [
    "top5_df = df[(df[\"country\"]==\"United States\")|(df[\"country\"]==\"China\")|(df[\"country\"]==\"Russia\")|(df[\"country\"]==\"Germany\")|(df[\"country\"]==\"United Kingdom\")]\n",
    "top5_df.head()"
   ]
  },
  {
   "cell_type": "code",
   "execution_count": 23,
   "id": "a984a6ea",
   "metadata": {
    "execution": {
     "iopub.execute_input": "2022-10-17T08:47:45.209880Z",
     "iopub.status.busy": "2022-10-17T08:47:45.209064Z",
     "iopub.status.idle": "2022-10-17T08:47:45.928349Z",
     "shell.execute_reply": "2022-10-17T08:47:45.927478Z"
    },
    "papermill": {
     "duration": 0.741585,
     "end_time": "2022-10-17T08:47:45.930765",
     "exception": false,
     "start_time": "2022-10-17T08:47:45.189180",
     "status": "completed"
    },
    "tags": []
   },
   "outputs": [
    {
     "data": {
      "image/png": "[encoded data removed]",
      "text/plain": [
       "<Figure size 827.5x360 with 1 Axes>"
      ]
     },
     "metadata": {},
     "output_type": "display_data"
    }
   ],
   "source": [
    "sns.relplot(x = \"year\", y = \"co2_emission_tons\", data = top5_df, hue = \"country\", kind=\"line\", markers=True, dashes=False,height=5, aspect=2, style=\"country\");\n",
    "plt.title(\"Time progression for top 5 co2 emitting countries\")\n",
    "plt.ylabel(\"co2 emission in tons\");"
   ]
  },
  {
   "cell_type": "markdown",
   "id": "de66cd91",
   "metadata": {
    "papermill": {
     "duration": 0.018411,
     "end_time": "2022-10-17T08:47:45.967559",
     "exception": false,
     "start_time": "2022-10-17T08:47:45.949148",
     "status": "completed"
    },
    "tags": []
   },
   "source": [
    "**Comparing top 5 co2 emitting countries in year 1750, 1800, 1850, 1900, 1950, 2000, 2010, 2020**"
   ]
  },
  {
   "cell_type": "code",
   "execution_count": 24,
   "id": "ea3d05bb",
   "metadata": {
    "execution": {
     "iopub.execute_input": "2022-10-17T08:47:46.007041Z",
     "iopub.status.busy": "2022-10-17T08:47:46.006239Z",
     "iopub.status.idle": "2022-10-17T08:47:46.506929Z",
     "shell.execute_reply": "2022-10-17T08:47:46.505727Z"
    },
    "papermill": {
     "duration": 0.523069,
     "end_time": "2022-10-17T08:47:46.509796",
     "exception": false,
     "start_time": "2022-10-17T08:47:45.986727",
     "status": "completed"
    },
    "tags": []
   },
   "outputs": [
    {
     "data": {
      "image/png": "[encoded data removed]",
      "text/plain": [
       "<Figure size 864x576 with 1 Axes>"
      ]
     },
     "metadata": {},
     "output_type": "display_data"
    }
   ],
   "source": [
    "top5_df[top5_df[\"year\"]==1750]\n",
    "fig = plt.figure(figsize = (12, 8))\n",
    "sns.barplot(data=top5_df[top5_df[\"year\"]==1750], x=\"country\", y=\"co2_emission_tons\", hue=\"country\")\n",
    "plt.title(\"Top 5 emission in 1750\")\n",
    "plt.ylabel(\"co2 emission in tons\");"
   ]
  },
  {
   "cell_type": "code",
   "execution_count": 25,
   "id": "173a9cb6",
   "metadata": {
    "execution": {
     "iopub.execute_input": "2022-10-17T08:47:46.550443Z",
     "iopub.status.busy": "2022-10-17T08:47:46.549784Z",
     "iopub.status.idle": "2022-10-17T08:47:47.059019Z",
     "shell.execute_reply": "2022-10-17T08:47:47.057808Z"
    },
    "papermill": {
     "duration": 0.532711,
     "end_time": "2022-10-17T08:47:47.062012",
     "exception": false,
     "start_time": "2022-10-17T08:47:46.529301",
     "status": "completed"
    },
    "tags": []
   },
   "outputs": [
    {
     "data": {
      "image/png": "[encoded data removed]",
      "text/plain": [
       "<Figure size 864x576 with 1 Axes>"
      ]
     },
     "metadata": {},
     "output_type": "display_data"
    }
   ],
   "source": [
    "top5_df[top5_df[\"year\"]==18000]\n",
    "fig = plt.figure(figsize = (12, 8))\n",
    "sns.barplot(data=top5_df[top5_df[\"year\"]==1800], x=\"country\", y=\"co2_emission_tons\", hue=\"country\")\n",
    "plt.title(\"Top 5 emission in 1800\")\n",
    "plt.ylabel(\"co2 emission in tons\");"
   ]
  },
  {
   "cell_type": "code",
   "execution_count": 26,
   "id": "ac14f2c4",
   "metadata": {
    "execution": {
     "iopub.execute_input": "2022-10-17T08:47:47.101931Z",
     "iopub.status.busy": "2022-10-17T08:47:47.101500Z",
     "iopub.status.idle": "2022-10-17T08:47:47.617517Z",
     "shell.execute_reply": "2022-10-17T08:47:47.616538Z"
    },
    "papermill": {
     "duration": 0.539172,
     "end_time": "2022-10-17T08:47:47.620154",
     "exception": false,
     "start_time": "2022-10-17T08:47:47.080982",
     "status": "completed"
    },
    "tags": []
   },
   "outputs": [
    {
     "data": {
      "image/png": "[encoded data removed]",
      "text/plain": [
       "<Figure size 864x576 with 1 Axes>"
      ]
     },
     "metadata": {},
     "output_type": "display_data"
    }
   ],
   "source": [
    "top5_df[top5_df[\"year\"]==1850]\n",
    "fig = plt.figure(figsize = (12, 8))\n",
    "sns.barplot(data=top5_df[top5_df[\"year\"]==1850], x=\"country\", y=\"co2_emission_tons\", hue=\"country\")\n",
    "plt.title(\"Top 5 emission in 1850\")\n",
    "plt.ylabel(\"co2 emission in tons\");"
   ]
  },
  {
   "cell_type": "code",
   "execution_count": 27,
   "id": "c649ca24",
   "metadata": {
    "execution": {
     "iopub.execute_input": "2022-10-17T08:47:47.661444Z",
     "iopub.status.busy": "2022-10-17T08:47:47.661011Z",
     "iopub.status.idle": "2022-10-17T08:47:48.190991Z",
     "shell.execute_reply": "2022-10-17T08:47:48.189641Z"
    },
    "papermill": {
     "duration": 0.553833,
     "end_time": "2022-10-17T08:47:48.193763",
     "exception": false,
     "start_time": "2022-10-17T08:47:47.639930",
     "status": "completed"
    },
    "tags": []
   },
   "outputs": [
    {
     "data": {
      "image/png": "[encoded data removed]",
      "text/plain": [
       "<Figure size 864x576 with 1 Axes>"
      ]
     },
     "metadata": {},
     "output_type": "display_data"
    }
   ],
   "source": [
    "top5_df[top5_df[\"year\"]==1900]\n",
    "fig = plt.figure(figsize = (12, 8))\n",
    "sns.barplot(data=top5_df[top5_df[\"year\"]==1900], x=\"country\", y=\"co2_emission_tons\", hue=\"country\")\n",
    "plt.title(\"Top 5 emission in 1900\")\n",
    "plt.ylabel(\"co2 emission in tons\");"
   ]
  },
  {
   "cell_type": "code",
   "execution_count": 28,
   "id": "f1907cc2",
   "metadata": {
    "execution": {
     "iopub.execute_input": "2022-10-17T08:47:48.237336Z",
     "iopub.status.busy": "2022-10-17T08:47:48.236927Z",
     "iopub.status.idle": "2022-10-17T08:47:48.785502Z",
     "shell.execute_reply": "2022-10-17T08:47:48.784094Z"
    },
    "papermill": {
     "duration": 0.574099,
     "end_time": "2022-10-17T08:47:48.788631",
     "exception": false,
     "start_time": "2022-10-17T08:47:48.214532",
     "status": "completed"
    },
    "tags": []
   },
   "outputs": [
    {
     "data": {
      "image/png": "[encoded data removed]",
      "text/plain": [
       "<Figure size 864x576 with 1 Axes>"
      ]
     },
     "metadata": {},
     "output_type": "display_data"
    }
   ],
   "source": [
    "top5_df[top5_df[\"year\"]==1950]\n",
    "fig = plt.figure(figsize = (12, 8))\n",
    "sns.barplot(data=top5_df[top5_df[\"year\"]==1950], x=\"country\", y=\"co2_emission_tons\", hue=\"country\")\n",
    "plt.title(\"Top 5 emission in 1950\")\n",
    "plt.ylabel(\"co2 emission in tons\");"
   ]
  },
  {
   "cell_type": "code",
   "execution_count": 29,
   "id": "cbe7049a",
   "metadata": {
    "execution": {
     "iopub.execute_input": "2022-10-17T08:47:48.832074Z",
     "iopub.status.busy": "2022-10-17T08:47:48.831632Z",
     "iopub.status.idle": "2022-10-17T08:47:49.522563Z",
     "shell.execute_reply": "2022-10-17T08:47:49.521148Z"
    },
    "papermill": {
     "duration": 0.715946,
     "end_time": "2022-10-17T08:47:49.525461",
     "exception": false,
     "start_time": "2022-10-17T08:47:48.809515",
     "status": "completed"
    },
    "tags": []
   },
   "outputs": [
    {
     "data": {
      "image/png": "[encoded data removed]",
      "text/plain": [
       "<Figure size 864x576 with 1 Axes>"
      ]
     },
     "metadata": {},
     "output_type": "display_data"
    }
   ],
   "source": [
    "top5_df[top5_df[\"year\"]==2000]\n",
    "fig = plt.figure(figsize = (12, 8))\n",
    "sns.barplot(data=top5_df[top5_df[\"year\"]==2000], x=\"country\", y=\"co2_emission_tons\", hue=\"country\")\n",
    "plt.title(\"Top 5 emission in 2000\")\n",
    "plt.ylabel(\"co2 emission in tons\");"
   ]
  },
  {
   "cell_type": "code",
   "execution_count": 30,
   "id": "24f33e72",
   "metadata": {
    "execution": {
     "iopub.execute_input": "2022-10-17T08:47:49.570580Z",
     "iopub.status.busy": "2022-10-17T08:47:49.570148Z",
     "iopub.status.idle": "2022-10-17T08:47:50.083859Z",
     "shell.execute_reply": "2022-10-17T08:47:50.082477Z"
    },
    "papermill": {
     "duration": 0.539854,
     "end_time": "2022-10-17T08:47:50.086507",
     "exception": false,
     "start_time": "2022-10-17T08:47:49.546653",
     "status": "completed"
    },
    "tags": []
   },
   "outputs": [
    {
     "data": {
      "image/png": "[encoded data removed]",
      "text/plain": [
       "<Figure size 864x576 with 1 Axes>"
      ]
     },
     "metadata": {},
     "output_type": "display_data"
    }
   ],
   "source": [
    "top5_df[top5_df[\"year\"]==2010]\n",
    "fig = plt.figure(figsize = (12, 8))\n",
    "sns.barplot(data=top5_df[top5_df[\"year\"]==2010], x=\"country\", y=\"co2_emission_tons\", hue=\"country\")\n",
    "plt.title(\"Top 5 emission in 2010\")\n",
    "plt.ylabel(\"co2 emission in tons\");"
   ]
  },
  {
   "cell_type": "code",
   "execution_count": 31,
   "id": "3393ddda",
   "metadata": {
    "execution": {
     "iopub.execute_input": "2022-10-17T08:47:50.133302Z",
     "iopub.status.busy": "2022-10-17T08:47:50.132873Z",
     "iopub.status.idle": "2022-10-17T08:47:50.661090Z",
     "shell.execute_reply": "2022-10-17T08:47:50.659777Z"
    },
    "papermill": {
     "duration": 0.555198,
     "end_time": "2022-10-17T08:47:50.663657",
     "exception": false,
     "start_time": "2022-10-17T08:47:50.108459",
     "status": "completed"
    },
    "tags": []
   },
   "outputs": [
    {
     "data": {
      "image/png": "[encoded data removed]",
      "text/plain": [
       "<Figure size 864x576 with 1 Axes>"
      ]
     },
     "metadata": {},
     "output_type": "display_data"
    }
   ],
   "source": [
    "top5_df[top5_df[\"year\"]==2020]\n",
    "fig = plt.figure(figsize = (12, 8))\n",
    "sns.barplot(data=top5_df[top5_df[\"year\"]==2020], x=\"country\", y=\"co2_emission_tons\", hue=\"country\")\n",
    "plt.title(\"Top 5 emission in 2020\")\n",
    "plt.ylabel(\"co2 emission in tons\");"
   ]
  },
  {
   "cell_type": "markdown",
   "id": "4acf87d7",
   "metadata": {
    "papermill": {
     "duration": 0.022321,
     "end_time": "2022-10-17T08:47:50.708454",
     "exception": false,
     "start_time": "2022-10-17T08:47:50.686133",
     "status": "completed"
    },
    "tags": []
   },
   "source": [
    "From the charts above, we can see that co2 emission in United Kingdom has steadily been on a decline over the years. This reduction in co2 emission seems to be due to the Climate Change Act established by the UK government. \n",
    "\n"
   ]
  },
  {
   "cell_type": "markdown",
   "id": "5acadc66",
   "metadata": {
    "papermill": {
     "duration": 0.022279,
     "end_time": "2022-10-17T08:47:50.753048",
     "exception": false,
     "start_time": "2022-10-17T08:47:50.730769",
     "status": "completed"
    },
    "tags": []
   },
   "source": [
    "Also, co2 emission has increased steadily in United States, China, Russia and Germany, with United States having the highest increase in co2 emission over the years. "
   ]
  }
 ],
 "metadata": {
  "kernelspec": {
   "display_name": "Python 3 (ipykernel)",
   "language": "python",
   "name": "python3"
  },
  "language_info": {
   "codemirror_mode": {
    "name": "ipython",
    "version": 3
   },
   "file_extension": ".py",
   "mimetype": "text/x-python",
   "name": "python",
   "nbconvert_exporter": "python",
   "pygments_lexer": "ipython3",
   "version": "3.9.7"
  },
  "papermill": {
   "default_parameters": {},
   "duration": 35.793052,
   "end_time": "2022-10-17T08:47:51.641840",
   "environment_variables": {},
   "exception": null,
   "input_path": "__notebook__.ipynb",
   "output_path": "__notebook__.ipynb",
   "parameters": {},
   "start_time": "2022-10-17T08:47:15.848788",
   "version": "2.3.4"
  }
 },
 "nbformat": 4,
 "nbformat_minor": 5
}
